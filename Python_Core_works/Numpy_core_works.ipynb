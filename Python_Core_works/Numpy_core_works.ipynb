{
 "cells": [
  {
   "metadata": {
    "ExecuteTime": {
     "end_time": "2025-10-08T09:19:20.566030Z",
     "start_time": "2025-10-08T09:19:20.125044Z"
    }
   },
   "cell_type": "code",
   "source": [
    "import numpy as np\n",
    "from numpy.ma.core import swapaxes, concatenate"
   ],
   "id": "9b1b66ac1d673108",
   "outputs": [],
   "execution_count": 1
  },
  {
   "metadata": {
    "ExecuteTime": {
     "end_time": "2025-10-08T09:20:34.365233Z",
     "start_time": "2025-10-08T09:20:34.353803Z"
    }
   },
   "cell_type": "code",
   "source": "a= np.zeros((3,3)) # a matrix full of zeros 3,3",
   "id": "dbb2c42df6a77cc4",
   "outputs": [],
   "execution_count": 4
  },
  {
   "metadata": {
    "ExecuteTime": {
     "end_time": "2025-10-08T09:20:39.277252Z",
     "start_time": "2025-10-08T09:20:39.250645Z"
    }
   },
   "cell_type": "code",
   "source": "a",
   "id": "f2f65d54dff28799",
   "outputs": [
    {
     "data": {
      "text/plain": [
       "array([[0., 0., 0.],\n",
       "       [0., 0., 0.],\n",
       "       [0., 0., 0.]])"
      ]
     },
     "execution_count": 5,
     "metadata": {},
     "output_type": "execute_result"
    }
   ],
   "execution_count": 5
  },
  {
   "metadata": {
    "ExecuteTime": {
     "end_time": "2025-10-08T09:21:55.232022Z",
     "start_time": "2025-10-08T09:21:55.206983Z"
    }
   },
   "cell_type": "code",
   "source": [
    "b=np.ones((4,4)) # a matrix full of ones\n",
    "b"
   ],
   "id": "c1ed1e57ce4f7a82",
   "outputs": [
    {
     "data": {
      "text/plain": [
       "array([[1., 1., 1., 1.],\n",
       "       [1., 1., 1., 1.],\n",
       "       [1., 1., 1., 1.],\n",
       "       [1., 1., 1., 1.]])"
      ]
     },
     "execution_count": 7,
     "metadata": {},
     "output_type": "execute_result"
    }
   ],
   "execution_count": 7
  },
  {
   "metadata": {
    "ExecuteTime": {
     "end_time": "2025-10-08T09:22:59.166175Z",
     "start_time": "2025-10-08T09:22:59.150423Z"
    }
   },
   "cell_type": "code",
   "source": [
    "c=np.full((4,4),6) # a matrix full of 6\n",
    "c"
   ],
   "id": "de5f58d2cb2e6503",
   "outputs": [
    {
     "data": {
      "text/plain": [
       "array([[6, 6, 6, 6],\n",
       "       [6, 6, 6, 6],\n",
       "       [6, 6, 6, 6],\n",
       "       [6, 6, 6, 6]])"
      ]
     },
     "execution_count": 9,
     "metadata": {},
     "output_type": "execute_result"
    }
   ],
   "execution_count": 9
  },
  {
   "metadata": {
    "ExecuteTime": {
     "end_time": "2025-10-08T09:23:30.526035Z",
     "start_time": "2025-10-08T09:23:30.429456Z"
    }
   },
   "cell_type": "code",
   "source": "import time",
   "id": "8716d8c5d9abf91e",
   "outputs": [],
   "execution_count": 10
  },
  {
   "metadata": {
    "ExecuteTime": {
     "end_time": "2025-10-08T09:29:20.360722Z",
     "start_time": "2025-10-08T09:29:20.340072Z"
    }
   },
   "cell_type": "code",
   "source": [
    "start=time.time()\n",
    "l=[]\n",
    "for i in range(10):\n",
    "    ops=i*100\n",
    "    l.append(ops)\n",
    "print(l)\n",
    "end=time.time()\n",
    "\n",
    "print(\"Time taken to perform the operation over list :\" ,end-start)"
   ],
   "id": "d417e4b60c76073d",
   "outputs": [
    {
     "name": "stdout",
     "output_type": "stream",
     "text": [
      "[0, 100, 200, 300, 400, 500, 600, 700, 800, 900]\n",
      "Time taken to perform the operation over list : 0.0009429454803466797\n"
     ]
    }
   ],
   "execution_count": 15
  },
  {
   "metadata": {
    "ExecuteTime": {
     "end_time": "2025-10-08T10:26:33.642515Z",
     "start_time": "2025-10-08T10:26:33.609906Z"
    }
   },
   "cell_type": "code",
   "source": [
    "# lets perform the same opeartion over array\n",
    "start2=time.time()\n",
    "ary=np.arange(10)\n",
    "for i in ary:\n",
    "    oper= ary*100\n",
    "\n",
    "print(oper)\n",
    "end2=time.time()\n",
    "print(\"Time taken to perform the operation over array :\" ,end2-start2)"
   ],
   "id": "a46bf1797950a797",
   "outputs": [
    {
     "name": "stdout",
     "output_type": "stream",
     "text": [
      "[  0 100 200 300 400 500 600 700 800 900]\n",
      "Time taken to perform the operation over array : 0.004395008087158203\n"
     ]
    }
   ],
   "execution_count": 18
  },
  {
   "metadata": {
    "ExecuteTime": {
     "end_time": "2025-10-08T10:27:44.265009Z",
     "start_time": "2025-10-08T10:27:44.204734Z"
    }
   },
   "cell_type": "code",
   "source": "import sys",
   "id": "7394d534661852a5",
   "outputs": [],
   "execution_count": 19
  },
  {
   "metadata": {
    "ExecuteTime": {
     "end_time": "2025-10-08T10:29:01.698635Z",
     "start_time": "2025-10-08T10:29:01.669236Z"
    }
   },
   "cell_type": "code",
   "source": [
    "print(sys.getsizeof(oper)\n",
    ",sys.getsizeof(l))"
   ],
   "id": "56cff1cb1b873166",
   "outputs": [
    {
     "name": "stdout",
     "output_type": "stream",
     "text": [
      "192 184\n"
     ]
    }
   ],
   "execution_count": 20
  },
  {
   "metadata": {
    "ExecuteTime": {
     "end_time": "2025-10-08T10:32:25.133507Z",
     "start_time": "2025-10-08T10:32:24.989506Z"
    }
   },
   "cell_type": "code",
   "source": [
    "array=np.arange(10)\n",
    "array"
   ],
   "id": "147b70c77fa991db",
   "outputs": [
    {
     "data": {
      "text/plain": [
       "array([0, 1, 2, 3, 4, 5, 6, 7, 8, 9])"
      ]
     },
     "execution_count": 21,
     "metadata": {},
     "output_type": "execute_result"
    }
   ],
   "execution_count": 21
  },
  {
   "metadata": {
    "ExecuteTime": {
     "end_time": "2025-10-08T10:32:33.950558Z",
     "start_time": "2025-10-08T10:32:33.921624Z"
    }
   },
   "cell_type": "code",
   "source": "array+12",
   "id": "a8a9ca63e6f96551",
   "outputs": [
    {
     "data": {
      "text/plain": [
       "array([12, 13, 14, 15, 16, 17, 18, 19, 20, 21])"
      ]
     },
     "execution_count": 22,
     "metadata": {},
     "output_type": "execute_result"
    }
   ],
   "execution_count": 22
  },
  {
   "metadata": {
    "ExecuteTime": {
     "end_time": "2025-10-08T11:26:12.170164Z",
     "start_time": "2025-10-08T11:26:12.075410Z"
    }
   },
   "cell_type": "code",
   "source": [
    "# dimension and shape of array\n",
    "\"\"\"\n",
    "a single no like 32 - scalar dimension is 0\n",
    "a vector like 10,20,30 - vector - dimension is 1\n",
    " matrix -\n",
    "as no of brackets will increase the dimension of array\n",
    "\n",
    "\"\"\"\n",
    "\n",
    "zero_d= np.array(34)\n",
    "zero_d.ndim\n",
    "\n",
    "one_d=np.array([1,2,3,4,5])\n",
    "one_d.ndim\n",
    "\n",
    "two_d=np.array([[1,2,3],[4,5,6]])\n",
    "two_d.ndim\n",
    "print(f\"dimension of {zero_d.ndim}, {one_d.ndim}, {two_d.ndim}\")\n"
   ],
   "id": "e4a18a08fc9774c6",
   "outputs": [
    {
     "name": "stdout",
     "output_type": "stream",
     "text": [
      "dimension of 0, 1, 2\n"
     ]
    }
   ],
   "execution_count": 31
  },
  {
   "metadata": {
    "ExecuteTime": {
     "end_time": "2025-10-08T11:28:48.054447Z",
     "start_time": "2025-10-08T11:28:48.030181Z"
    }
   },
   "cell_type": "code",
   "source": [
    "print(np.array([[[\n",
    "\n",
    "]]]).ndim)\n",
    "\n",
    "\n",
    "\"\"\"\n",
    "number of brackets will increase the dimension of array\n",
    "\"\"\""
   ],
   "id": "49a55eb83ffde8eb",
   "outputs": [
    {
     "name": "stdout",
     "output_type": "stream",
     "text": [
      "3\n"
     ]
    },
    {
     "data": {
      "text/plain": [
       "'\\nnumber of brackets will increase the dimension of array\\n'"
      ]
     },
     "execution_count": 40,
     "metadata": {},
     "output_type": "execute_result"
    }
   ],
   "execution_count": 40
  },
  {
   "metadata": {
    "ExecuteTime": {
     "end_time": "2025-10-08T11:30:42.876232Z",
     "start_time": "2025-10-08T11:30:42.850164Z"
    }
   },
   "cell_type": "code",
   "source": [
    "# Creation of array\n",
    "\n",
    "array1= np.arange(1,100)\n",
    "array1"
   ],
   "id": "801cca6bc8bb09e8",
   "outputs": [
    {
     "data": {
      "text/plain": [
       "array([ 1,  2,  3,  4,  5,  6,  7,  8,  9, 10, 11, 12, 13, 14, 15, 16, 17,\n",
       "       18, 19, 20, 21, 22, 23, 24, 25, 26, 27, 28, 29, 30, 31, 32, 33, 34,\n",
       "       35, 36, 37, 38, 39, 40, 41, 42, 43, 44, 45, 46, 47, 48, 49, 50, 51,\n",
       "       52, 53, 54, 55, 56, 57, 58, 59, 60, 61, 62, 63, 64, 65, 66, 67, 68,\n",
       "       69, 70, 71, 72, 73, 74, 75, 76, 77, 78, 79, 80, 81, 82, 83, 84, 85,\n",
       "       86, 87, 88, 89, 90, 91, 92, 93, 94, 95, 96, 97, 98, 99])"
      ]
     },
     "execution_count": 42,
     "metadata": {},
     "output_type": "execute_result"
    }
   ],
   "execution_count": 42
  },
  {
   "metadata": {
    "ExecuteTime": {
     "end_time": "2025-10-08T11:31:16.792374Z",
     "start_time": "2025-10-08T11:31:16.725031Z"
    }
   },
   "cell_type": "code",
   "source": [
    "# with skip nature\n",
    "array_2=np.arange(1,100,5)\n",
    "array_2"
   ],
   "id": "3dcb1b524c815267",
   "outputs": [
    {
     "data": {
      "text/plain": [
       "array([ 1,  6, 11, 16, 21, 26, 31, 36, 41, 46, 51, 56, 61, 66, 71, 76, 81,\n",
       "       86, 91, 96])"
      ]
     },
     "execution_count": 43,
     "metadata": {},
     "output_type": "execute_result"
    }
   ],
   "execution_count": 43
  },
  {
   "metadata": {
    "ExecuteTime": {
     "end_time": "2025-10-08T11:32:23.489036Z",
     "start_time": "2025-10-08T11:32:23.380543Z"
    }
   },
   "cell_type": "code",
   "source": [
    "# with linearly space between two number\n",
    "\n",
    "# linspace(start,stop,no_of_elements)\n",
    "\n",
    "array_3= np.linspace(1,10,5)\n",
    "array_3"
   ],
   "id": "b3a2ffa7386f5f49",
   "outputs": [
    {
     "data": {
      "text/plain": [
       "array([ 1.  ,  3.25,  5.5 ,  7.75, 10.  ])"
      ]
     },
     "execution_count": 44,
     "metadata": {},
     "output_type": "execute_result"
    }
   ],
   "execution_count": 44
  },
  {
   "metadata": {
    "ExecuteTime": {
     "end_time": "2025-10-08T11:39:31.271755Z",
     "start_time": "2025-10-08T11:39:31.242280Z"
    }
   },
   "cell_type": "code",
   "source": [
    "array_4=np.logspace(1,4,4)\n",
    "array_4\n",
    "\"\"\"\n",
    "logspace(start,stop,no_of_elements)\n",
    "logspace result is in log scale like 10 **1 ,10**2,10**3\n",
    "\"\"\""
   ],
   "id": "8e6871b36576c9a9",
   "outputs": [
    {
     "data": {
      "text/plain": [
       "array([   10.,   100.,  1000., 10000.])"
      ]
     },
     "execution_count": 46,
     "metadata": {},
     "output_type": "execute_result"
    }
   ],
   "execution_count": 46
  },
  {
   "metadata": {
    "ExecuteTime": {
     "end_time": "2025-10-08T13:00:04.382697Z",
     "start_time": "2025-10-08T13:00:04.326031Z"
    }
   },
   "cell_type": "code",
   "source": [
    "# creating an uninitialized  and empty array\n",
    "array_5= np.empty([3,3])\n",
    "array_5"
   ],
   "id": "ff0bc09bcdf4b239",
   "outputs": [
    {
     "data": {
      "text/plain": [
       "array([[0., 0., 0.],\n",
       "       [0., 0., 0.],\n",
       "       [0., 0., 0.]])"
      ]
     },
     "execution_count": 50,
     "metadata": {},
     "output_type": "execute_result"
    }
   ],
   "execution_count": 50
  },
  {
   "metadata": {
    "ExecuteTime": {
     "end_time": "2025-10-08T12:51:40.737497Z",
     "start_time": "2025-10-08T12:51:40.640784Z"
    }
   },
   "cell_type": "code",
   "source": "print(array_5.shape,array_5.size,array_5.ndim)",
   "id": "682d7e46b9952008",
   "outputs": [
    {
     "name": "stdout",
     "output_type": "stream",
     "text": [
      "(3, 3) 9 2\n"
     ]
    }
   ],
   "execution_count": 48
  },
  {
   "metadata": {
    "ExecuteTime": {
     "end_time": "2025-10-08T13:04:59.865892Z",
     "start_time": "2025-10-08T13:04:59.837324Z"
    }
   },
   "cell_type": "code",
   "source": [
    "\"\"\"\n",
    "uninitialized array meanse it is not filled with any value\n",
    "empty array means it is filled with some value\n",
    "\"\"\"\n",
    "Print(\"--------------- Important--------\")\n",
    "\n",
    "\"\"\"\n",
    "NumPy me uninitialized ya empty array (jo np.empty() se banta hai) basically ek aisa array hota hai jisme memory to reserve ho jaati hai, lekin uske andar koi value set nahi hoti. Matlab NumPy bas RAM ka ek block le leta hai aur jo bhi purana data (garbage values) us memory me pada hota hai, wahi dikha deta hai. Ye numbers random lagte hain, par asal me wo sirf pehle ke memory bits hote hain. Isliye har run me output thoda alag bhi ho sakta hai, ye depend karta hai ki OS kis memory area ko allocate karta hai. np.zeros() ke opposite, jo har element ko 0 se initialize karta hai, np.empty() fast hota hai — par use tabhi karo jab tum us array ke andar ki values turant overwrite karne wale ho.\n",
    "\"\"\"\n",
    "\n",
    "\n"
   ],
   "id": "c30ecc44bdece3c7",
   "outputs": [
    {
     "data": {
      "text/plain": [
       "'\\nuninitialized array meanse it is not filled with any value\\nempty array means it is filled with some value\\n'"
      ]
     },
     "execution_count": 51,
     "metadata": {},
     "output_type": "execute_result"
    }
   ],
   "execution_count": 51
  },
  {
   "metadata": {
    "ExecuteTime": {
     "end_time": "2025-10-08T13:16:59.851538Z",
     "start_time": "2025-10-08T13:16:59.823423Z"
    }
   },
   "cell_type": "code",
   "source": [
    " \"\"\"random.rand - generates values between  0 and 1 having random distribution means mean = 0.5 and variance = .29\n",
    "\n",
    "\"\"\"\n",
    "array_6=np.random.rand(20)\n",
    "array_6"
   ],
   "id": "864961c5e13936a2",
   "outputs": [
    {
     "data": {
      "text/plain": [
       "array([0.2822054 , 0.56477085, 0.65840393, 0.84542289, 0.55754307,\n",
       "       0.61027645, 0.63310418, 0.33240126, 0.78411874, 0.84185981,\n",
       "       0.52774463, 0.93379954, 0.60237088, 0.56631792, 0.05947135,\n",
       "       0.23510363, 0.85045302, 0.59334062, 0.01536397, 0.44091738])"
      ]
     },
     "execution_count": 59,
     "metadata": {},
     "output_type": "execute_result"
    }
   ],
   "execution_count": 59
  },
  {
   "metadata": {
    "ExecuteTime": {
     "end_time": "2025-10-08T13:17:43.271896Z",
     "start_time": "2025-10-08T13:17:43.254490Z"
    }
   },
   "cell_type": "code",
   "source": "array_6.reshape([5,4])",
   "id": "ee9f8b359cd03e48",
   "outputs": [
    {
     "data": {
      "text/plain": [
       "array([[0.2822054 , 0.56477085, 0.65840393, 0.84542289],\n",
       "       [0.55754307, 0.61027645, 0.63310418, 0.33240126],\n",
       "       [0.78411874, 0.84185981, 0.52774463, 0.93379954],\n",
       "       [0.60237088, 0.56631792, 0.05947135, 0.23510363],\n",
       "       [0.85045302, 0.59334062, 0.01536397, 0.44091738]])"
      ]
     },
     "execution_count": 61,
     "metadata": {},
     "output_type": "execute_result"
    }
   ],
   "execution_count": 61
  },
  {
   "metadata": {
    "ExecuteTime": {
     "end_time": "2025-10-08T13:39:16.988965Z",
     "start_time": "2025-10-08T13:39:16.901505Z"
    }
   },
   "cell_type": "code",
   "source": [
    "array_7=np.random.randn(3,4)\n",
    "array_7\n",
    "\"\"\"\n",
    "with randn we get values between -1 and 1 having mean = 0 and variance = 1\n",
    "\"\"\""
   ],
   "id": "13a6ea0d906ba729",
   "outputs": [
    {
     "data": {
      "text/plain": [
       "array([[ 1.30171253, -1.03252987, -0.47423919, -1.01059194],\n",
       "       [-0.46753705, -0.02279947, -1.13053479,  0.64141168],\n",
       "       [-0.32034089,  0.39152868, -1.41578561,  0.49118031]])"
      ]
     },
     "execution_count": 63,
     "metadata": {},
     "output_type": "execute_result"
    }
   ],
   "execution_count": 63
  },
  {
   "metadata": {
    "ExecuteTime": {
     "end_time": "2025-10-08T13:47:45.137205Z",
     "start_time": "2025-10-08T13:47:45.119047Z"
    }
   },
   "cell_type": "code",
   "source": [
    "array_8=np.random.randint(10,20,[3,3])\n",
    "array_8\n",
    "\n",
    "\"\"\"\n",
    "randint - generates random integer between 10 and 20\n",
    "\"\"\"\n"
   ],
   "id": "5f8f976bf249c899",
   "outputs": [
    {
     "data": {
      "text/plain": [
       "'\\nrandint - generates random integer between 10 and 20\\n'"
      ]
     },
     "execution_count": 68,
     "metadata": {},
     "output_type": "execute_result"
    }
   ],
   "execution_count": 68
  },
  {
   "metadata": {
    "ExecuteTime": {
     "end_time": "2025-10-08T14:42:07.240994Z",
     "start_time": "2025-10-08T14:42:07.174628Z"
    }
   },
   "cell_type": "code",
   "source": [
    "# Numpy Data Type and typecasting\n",
    "\n",
    "\"\"\"\n",
    "int\n",
    "bool\n",
    "stringe\n",
    "float\n",
    "complex\n",
    "\"\"\""
   ],
   "id": "b75846dc1991330a",
   "outputs": [
    {
     "data": {
      "text/plain": [
       "'\\nint\\nbool\\nstringe\\nfloat\\ncomplex \\n'"
      ]
     },
     "execution_count": 70,
     "metadata": {},
     "output_type": "execute_result"
    }
   ],
   "execution_count": 70
  },
  {
   "metadata": {},
   "cell_type": "code",
   "outputs": [],
   "execution_count": null,
   "source": [
    "# typecasting conversion of data type one into another\n",
    "# by using astype()\n"
   ],
   "id": "a1c2898c2527dae"
  },
  {
   "metadata": {
    "ExecuteTime": {
     "end_time": "2025-10-08T14:52:28.707031Z",
     "start_time": "2025-10-08T14:52:28.681322Z"
    }
   },
   "cell_type": "code",
   "source": [
    "# Reshaping, -------- Reshape, Ravel, flatten\n",
    "\"\"\"\n",
    "ravel is to convert N-D array into 1D array - but returns a view\n",
    "flatten is to convert N-D array into 1D array - but returns a copy\n",
    "\n",
    "\n",
    "flatten() → ek nayi copy banayi → flatten ke result me change kia to v original safe rhega.\n",
    "ravel() → view (reference) return kiya → ravel ke result me change kia to original v chud jaiga\n",
    "\n",
    "\"\"\"\n",
    "\n",
    "\n"
   ],
   "id": "71ab003b2ce85629",
   "outputs": [
    {
     "data": {
      "text/plain": [
       "8"
      ]
     },
     "execution_count": 73,
     "metadata": {},
     "output_type": "execute_result"
    }
   ],
   "execution_count": 73
  },
  {
   "metadata": {
    "ExecuteTime": {
     "end_time": "2025-10-08T15:09:22.386985Z",
     "start_time": "2025-10-08T15:09:22.361607Z"
    }
   },
   "cell_type": "code",
   "source": [
    "# rehape testing\n",
    "at=np.random.randint(1,10,[5,5])\n",
    "at\n",
    "at.flatten()\n",
    "at.ravel()"
   ],
   "id": "58189865c78c90be",
   "outputs": [
    {
     "data": {
      "text/plain": [
       "array([1, 9, 9, 5, 6, 4, 1, 3, 6, 2, 4, 3, 6, 8, 9, 4, 3, 2, 5, 7, 6, 5,\n",
       "       1, 6, 9])"
      ]
     },
     "execution_count": 78,
     "metadata": {},
     "output_type": "execute_result"
    }
   ],
   "execution_count": 78
  },
  {
   "metadata": {
    "ExecuteTime": {
     "end_time": "2025-10-08T19:48:16.607611Z",
     "start_time": "2025-10-08T19:48:16.591571Z"
    }
   },
   "cell_type": "code",
   "source": [
    "# indexing and sliciing\n",
    "\n",
    "atr=np.arange(1,20)\n",
    "print(atr)\n",
    "\n",
    "print(atr[1:10:2])\n",
    "print(\"reverse indexing\",atr[-1:10:-1])\n"
   ],
   "id": "25175afbaa299d67",
   "outputs": [
    {
     "name": "stdout",
     "output_type": "stream",
     "text": [
      "[ 1  2  3  4  5  6  7  8  9 10 11 12 13 14 15 16 17 18 19]\n",
      "[ 2  4  6  8 10]\n",
      "reverse indexing [19 18 17 16 15 14 13 12]\n"
     ]
    }
   ],
   "execution_count": 126
  },
  {
   "metadata": {
    "ExecuteTime": {
     "end_time": "2025-10-08T19:48:17.651835Z",
     "start_time": "2025-10-08T19:48:17.620671Z"
    }
   },
   "cell_type": "code",
   "source": [
    "# indexing and slicing of multi dimension array(matrix)\n",
    "\n",
    "atr=np.random.randint(10,20,[6,6])\n",
    "print(atr)\n",
    "\n",
    "# lets access first row\n",
    "print(\"first row\",atr[0])\n",
    "print(\"first column\",atr[:,0])\n",
    "print(\"third row and second column \",atr[3,2])\n",
    "print(\"lets create a sub matrix\", atr[1:3,1:3])"
   ],
   "id": "64502609dfb6c06f",
   "outputs": [
    {
     "name": "stdout",
     "output_type": "stream",
     "text": [
      "[[13 14 14 14 12 13]\n",
      " [14 14 12 19 18 15]\n",
      " [17 14 15 13 10 14]\n",
      " [13 15 15 15 11 17]\n",
      " [14 11 19 15 14 12]\n",
      " [17 11 15 19 13 12]]\n",
      "first row [13 14 14 14 12 13]\n",
      "first column [13 14 17 13 14 17]\n",
      "third row and second column  15\n",
      "lets create a sub matrix [[14 12]\n",
      " [14 15]]\n"
     ]
    }
   ],
   "execution_count": 127
  },
  {
   "metadata": {
    "ExecuteTime": {
     "end_time": "2025-10-08T19:48:18.091739Z",
     "start_time": "2025-10-08T19:48:18.078243Z"
    }
   },
   "cell_type": "code",
   "source": [
    "# let try looping over iterator\n",
    "atr\n",
    "l=[]\n",
    "for i in np.nditer(atr):\n",
    "    l.append(i+10)\n",
    "\n",
    "print(l)"
   ],
   "id": "cc978253ee1c6bd1",
   "outputs": [
    {
     "name": "stdout",
     "output_type": "stream",
     "text": [
      "[np.int64(23), np.int64(24), np.int64(24), np.int64(24), np.int64(22), np.int64(23), np.int64(24), np.int64(24), np.int64(22), np.int64(29), np.int64(28), np.int64(25), np.int64(27), np.int64(24), np.int64(25), np.int64(23), np.int64(20), np.int64(24), np.int64(23), np.int64(25), np.int64(25), np.int64(25), np.int64(21), np.int64(27), np.int64(24), np.int64(21), np.int64(29), np.int64(25), np.int64(24), np.int64(22), np.int64(27), np.int64(21), np.int64(25), np.int64(29), np.int64(23), np.int64(22)]\n"
     ]
    }
   ],
   "execution_count": 128
  },
  {
   "metadata": {
    "ExecuteTime": {
     "end_time": "2025-10-08T19:48:18.558283Z",
     "start_time": "2025-10-08T19:48:18.543994Z"
    }
   },
   "cell_type": "code",
   "source": [
    "# ndenumerate  used to get the value and the index\n",
    "\n",
    "for index,value in np.ndenumerate(atr):\n",
    "    print(index,value,end=\" \")"
   ],
   "id": "d92f44c2e4353ca3",
   "outputs": [
    {
     "name": "stdout",
     "output_type": "stream",
     "text": [
      "(0, 0) 13 (0, 1) 14 (0, 2) 14 (0, 3) 14 (0, 4) 12 (0, 5) 13 (1, 0) 14 (1, 1) 14 (1, 2) 12 (1, 3) 19 (1, 4) 18 (1, 5) 15 (2, 0) 17 (2, 1) 14 (2, 2) 15 (2, 3) 13 (2, 4) 10 (2, 5) 14 (3, 0) 13 (3, 1) 15 (3, 2) 15 (3, 3) 15 (3, 4) 11 (3, 5) 17 (4, 0) 14 (4, 1) 11 (4, 2) 19 (4, 3) 15 (4, 4) 14 (4, 5) 12 (5, 0) 17 (5, 1) 11 (5, 2) 15 (5, 3) 19 (5, 4) 13 (5, 5) 12 "
     ]
    }
   ],
   "execution_count": 129
  },
  {
   "metadata": {
    "ExecuteTime": {
     "end_time": "2025-10-08T19:48:18.958511Z",
     "start_time": "2025-10-08T19:48:18.944029Z"
    }
   },
   "cell_type": "code",
   "source": [
    "## view and copy\n",
    "\n",
    "\"\"\"\n",
    "so in case of view if you make any changess in view it will reflect in original array\n",
    "\n",
    "while in case of copy if you make any changess in copy it will not reflect in original array\n",
    "\"\"\"\n",
    "\n",
    "print(atr[1,1])\n",
    "view=atr\n",
    "view[1,1]= 99 # because we are making change in view it will reflect in original array\n",
    "print(atr[1,1],view[1,1])\n",
    "\n",
    "# while\n",
    "copy=atr.copy()\n",
    "copy[2,2]= 89 # because we are making change in copy it will not reflect in original array\n",
    "atr[2,2]\n",
    "print(atr[2,2],copy[2,2])"
   ],
   "id": "289242431826b7fd",
   "outputs": [
    {
     "name": "stdout",
     "output_type": "stream",
     "text": [
      "14\n",
      "99 99\n",
      "15 89\n"
     ]
    }
   ],
   "execution_count": 130
  },
  {
   "metadata": {
    "ExecuteTime": {
     "end_time": "2025-10-08T19:48:19.419095Z",
     "start_time": "2025-10-08T19:48:19.406860Z"
    }
   },
   "cell_type": "code",
   "source": [
    "# transpose - row becomes column and column becomes row\n",
    "satr=atr[0:3,0:3]\n",
    "print(satr,\n",
    "      satr.transpose())"
   ],
   "id": "9948518bd2fb9b80",
   "outputs": [
    {
     "name": "stdout",
     "output_type": "stream",
     "text": [
      "[[13 14 14]\n",
      " [14 99 12]\n",
      " [17 14 15]] [[13 14 17]\n",
      " [14 99 14]\n",
      " [14 12 15]]\n"
     ]
    }
   ],
   "execution_count": 131
  },
  {
   "metadata": {
    "ExecuteTime": {
     "end_time": "2025-10-08T19:48:21.471836Z",
     "start_time": "2025-10-08T19:48:21.460926Z"
    }
   },
   "cell_type": "code",
   "source": [
    "# swap axis\n",
    "\n",
    "s_atr=atr[:2,:2]\n",
    "s_atr\n",
    "print(s_atr, np.swapaxes(s_atr,0,1))"
   ],
   "id": "2b6e44cd7c68cc22",
   "outputs": [
    {
     "name": "stdout",
     "output_type": "stream",
     "text": [
      "[[13 14]\n",
      " [14 99]] [[13 14]\n",
      " [14 99]]\n"
     ]
    }
   ],
   "execution_count": 132
  },
  {
   "metadata": {
    "ExecuteTime": {
     "end_time": "2025-10-08T19:48:24.225523Z",
     "start_time": "2025-10-08T19:48:24.208796Z"
    }
   },
   "cell_type": "code",
   "source": [
    "# interchanging two row  Similary column can be interchanged\n",
    "atr[:1,:]\n",
    "atr.shape\n",
    "atr[5,:]\n",
    "\n",
    "print(f\" first row {atr[:1,:]}\",\n",
    "      f\"last rpw {atr[5:,:]}\")\n",
    "# now interchange them\n",
    "\n",
    "atr[:1,:] = atr[5,:]\n",
    "print(atr[:1,:],atr[5,:])"
   ],
   "id": "8c2371fa65779de4",
   "outputs": [
    {
     "name": "stdout",
     "output_type": "stream",
     "text": [
      " first row [[13 14 14 14 12 13]] last rpw [[17 11 15 19 13 12]]\n",
      "[[17 11 15 19 13 12]] [17 11 15 19 13 12]\n"
     ]
    }
   ],
   "execution_count": 133
  },
  {
   "metadata": {
    "ExecuteTime": {
     "end_time": "2025-10-08T20:02:49.692504Z",
     "start_time": "2025-10-08T20:02:49.648811Z"
    }
   },
   "cell_type": "code",
   "source": [
    "\n",
    "# concatination - combinig two array togeather\n",
    "\"\"\"\n",
    "concate only works with scalar\n",
    "to concat matrix use vstack and hstack\n",
    " v stack - row wise concatination - increases no of rows / ek ke niche dusra\n",
    " h stack - column wise concatination - increases no of column / side by side\n",
    "\n",
    "\"\"\"\n",
    "\n",
    "\n",
    "print(satr,\n",
    "satr.transpose())\n",
    "print(f\" vertical stack {np.vstack((satr, satr.transpose()))}\")\n",
    "print(f\"horizontal stacking {np.hstack((satr,satr.transpose())) }\")\n"
   ],
   "id": "67e87c62da1ae3c6",
   "outputs": [
    {
     "name": "stdout",
     "output_type": "stream",
     "text": [
      "[[17 11 15]\n",
      " [14 99 12]\n",
      " [17 14 15]] [[17 14 17]\n",
      " [11 99 14]\n",
      " [15 12 15]]\n",
      " vertical stack [[17 11 15]\n",
      " [14 99 12]\n",
      " [17 14 15]\n",
      " [17 14 17]\n",
      " [11 99 14]\n",
      " [15 12 15]]\n",
      "horizontal stacking [[17 11 15 17 14 17]\n",
      " [14 99 12 11 99 14]\n",
      " [17 14 15 15 12 15]]\n"
     ]
    }
   ],
   "execution_count": 146
  },
  {
   "metadata": {
    "ExecuteTime": {
     "end_time": "2025-10-08T20:06:54.515526Z",
     "start_time": "2025-10-08T20:06:54.457059Z"
    }
   },
   "cell_type": "code",
   "source": [
    "# split can be vertical as well as can be horizontal\n",
    "\"\"\"\n",
    "spliting can be achived by 3 way\n",
    "\n",
    "with function split - split(array, axis=0/1, no_of_parts))\n",
    "with hsplit- hsplit(array, no_of_parts)\n",
    "with vsplit- vsplit(array, no_of_parts)\n",
    "\"\"\""
   ],
   "id": "255da18724a35713",
   "outputs": [],
   "execution_count": 147
  },
  {
   "metadata": {
    "ExecuteTime": {
     "end_time": "2025-10-09T07:50:29.490934Z",
     "start_time": "2025-10-09T07:50:29.389083Z"
    }
   },
   "cell_type": "code",
   "source": [
    "atr\n",
    "print(f\"Over axis-0,{np.split(atr,6,axis=0)}\",\n",
    "      f\" Over axis-1,{np.split(atr,6,axis=1)}\")"
   ],
   "id": "881d8ec6551418b5",
   "outputs": [
    {
     "name": "stdout",
     "output_type": "stream",
     "text": [
      "Over axis-0,[array([[17, 11, 15, 19, 13, 12]]), array([[14, 99, 12, 19, 18, 15]]), array([[17, 14, 15, 13, 10, 14]]), array([[13, 15, 15, 15, 11, 17]]), array([[14, 11, 19, 15, 14, 12]]), array([[17, 11, 15, 19, 13, 12]])]  Over axis-1,[array([[17],\n",
      "       [14],\n",
      "       [17],\n",
      "       [13],\n",
      "       [14],\n",
      "       [17]]), array([[11],\n",
      "       [99],\n",
      "       [14],\n",
      "       [15],\n",
      "       [11],\n",
      "       [11]]), array([[15],\n",
      "       [12],\n",
      "       [15],\n",
      "       [15],\n",
      "       [19],\n",
      "       [15]]), array([[19],\n",
      "       [19],\n",
      "       [13],\n",
      "       [15],\n",
      "       [15],\n",
      "       [19]]), array([[13],\n",
      "       [18],\n",
      "       [10],\n",
      "       [11],\n",
      "       [14],\n",
      "       [13]]), array([[12],\n",
      "       [15],\n",
      "       [14],\n",
      "       [17],\n",
      "       [12],\n",
      "       [12]])]\n"
     ]
    }
   ],
   "execution_count": 159
  },
  {
   "metadata": {
    "ExecuteTime": {
     "end_time": "2025-10-09T07:57:20.900586Z",
     "start_time": "2025-10-09T07:57:20.885227Z"
    }
   },
   "cell_type": "code",
   "source": [
    "np.repeat(atr,3,axis=1)\n",
    "\n",
    "# repeat - repeats the value either in axis=0 or axis = 1"
   ],
   "id": "9aecf5851dd6d263",
   "outputs": [
    {
     "data": {
      "text/plain": [
       "array([[17, 17, 17, 11, 11, 11, 15, 15, 15, 19, 19, 19, 13, 13, 13, 12,\n",
       "        12, 12],\n",
       "       [14, 14, 14, 99, 99, 99, 12, 12, 12, 19, 19, 19, 18, 18, 18, 15,\n",
       "        15, 15],\n",
       "       [17, 17, 17, 14, 14, 14, 15, 15, 15, 13, 13, 13, 10, 10, 10, 14,\n",
       "        14, 14],\n",
       "       [13, 13, 13, 15, 15, 15, 15, 15, 15, 15, 15, 15, 11, 11, 11, 17,\n",
       "        17, 17],\n",
       "       [14, 14, 14, 11, 11, 11, 19, 19, 19, 15, 15, 15, 14, 14, 14, 12,\n",
       "        12, 12],\n",
       "       [17, 17, 17, 11, 11, 11, 15, 15, 15, 19, 19, 19, 13, 13, 13, 12,\n",
       "        12, 12]])"
      ]
     },
     "execution_count": 162,
     "metadata": {},
     "output_type": "execute_result"
    }
   ],
   "execution_count": 162
  },
  {
   "metadata": {
    "ExecuteTime": {
     "end_time": "2025-10-09T08:13:20.014042Z",
     "start_time": "2025-10-09T08:13:19.999180Z"
    }
   },
   "cell_type": "code",
   "source": "np.tile(atr,2) # repeat the whole row",
   "id": "efba5ddbdf578048",
   "outputs": [
    {
     "data": {
      "text/plain": [
       "array([[17, 11, 15, 19, 13, 12, 17, 11, 15, 19, 13, 12],\n",
       "       [14, 99, 12, 19, 18, 15, 14, 99, 12, 19, 18, 15],\n",
       "       [17, 14, 15, 13, 10, 14, 17, 14, 15, 13, 10, 14],\n",
       "       [13, 15, 15, 15, 11, 17, 13, 15, 15, 15, 11, 17],\n",
       "       [14, 11, 19, 15, 14, 12, 14, 11, 19, 15, 14, 12],\n",
       "       [17, 11, 15, 19, 13, 12, 17, 11, 15, 19, 13, 12]])"
      ]
     },
     "execution_count": 166,
     "metadata": {},
     "output_type": "execute_result"
    }
   ],
   "execution_count": 166
  },
  {
   "metadata": {
    "ExecuteTime": {
     "end_time": "2025-10-09T08:18:46.209385Z",
     "start_time": "2025-10-09T08:18:46.187121Z"
    }
   },
   "cell_type": "code",
   "source": [
    "\"\"\"\n",
    "Condition based operations\n",
    "where(condition, value_if_true, value_if_false)\n",
    "\"\"\"\n",
    "\n",
    "atr\n",
    "\n",
    "np.where(atr>15, \"High\", \"Low\")"
   ],
   "id": "609bccb54237192d",
   "outputs": [
    {
     "data": {
      "text/plain": [
       "array([['High', 'Low', 'Low', 'High', 'Low', 'Low'],\n",
       "       ['Low', 'High', 'Low', 'High', 'High', 'Low'],\n",
       "       ['High', 'Low', 'Low', 'Low', 'Low', 'Low'],\n",
       "       ['Low', 'Low', 'Low', 'Low', 'Low', 'High'],\n",
       "       ['Low', 'Low', 'High', 'Low', 'Low', 'Low'],\n",
       "       ['High', 'Low', 'Low', 'High', 'Low', 'Low']], dtype='<U4')"
      ]
     },
     "execution_count": 168,
     "metadata": {},
     "output_type": "execute_result"
    }
   ],
   "execution_count": 168
  },
  {
   "metadata": {
    "ExecuteTime": {
     "end_time": "2025-10-09T08:45:25.006207Z",
     "start_time": "2025-10-09T08:45:24.952954Z"
    }
   },
   "cell_type": "code",
   "source": "np.argwhere(atr>15)",
   "id": "767dfb3770004170",
   "outputs": [
    {
     "data": {
      "text/plain": [
       "array([[0, 0],\n",
       "       [0, 3],\n",
       "       [1, 1],\n",
       "       [1, 3],\n",
       "       [1, 4],\n",
       "       [2, 0],\n",
       "       [3, 5],\n",
       "       [4, 2],\n",
       "       [5, 0],\n",
       "       [5, 3]])"
      ]
     },
     "execution_count": 171,
     "metadata": {},
     "output_type": "execute_result"
    }
   ],
   "execution_count": 171
  },
  {
   "metadata": {
    "ExecuteTime": {
     "end_time": "2025-10-09T08:46:46.631931Z",
     "start_time": "2025-10-09T08:46:46.610628Z"
    }
   },
   "cell_type": "code",
   "source": "np.logical_and(atr>15, atr<18 )",
   "id": "5ed46aa0b8578aa7",
   "outputs": [
    {
     "data": {
      "text/plain": [
       "array([[ True, False, False, False, False, False],\n",
       "       [False, False, False, False, False, False],\n",
       "       [ True, False, False, False, False, False],\n",
       "       [False, False, False, False, False,  True],\n",
       "       [False, False, False, False, False, False],\n",
       "       [ True, False, False, False, False, False]])"
      ]
     },
     "execution_count": 172,
     "metadata": {},
     "output_type": "execute_result"
    }
   ],
   "execution_count": 172
  },
  {
   "metadata": {
    "ExecuteTime": {
     "end_time": "2025-10-09T09:53:25.279853Z",
     "start_time": "2025-10-09T09:53:25.221179Z"
    }
   },
   "cell_type": "code",
   "source": "np.nonzero(atr)",
   "id": "4765b7cdb39c9073",
   "outputs": [
    {
     "data": {
      "text/plain": [
       "(array([0, 0, 0, 0, 0, 0, 1, 1, 1, 1, 1, 1, 2, 2, 2, 2, 2, 2, 3, 3, 3, 3,\n",
       "        3, 3, 4, 4, 4, 4, 4, 4, 5, 5, 5, 5, 5, 5]),\n",
       " array([0, 1, 2, 3, 4, 5, 0, 1, 2, 3, 4, 5, 0, 1, 2, 3, 4, 5, 0, 1, 2, 3,\n",
       "        4, 5, 0, 1, 2, 3, 4, 5, 0, 1, 2, 3, 4, 5]))"
      ]
     },
     "execution_count": 173,
     "metadata": {},
     "output_type": "execute_result"
    }
   ],
   "execution_count": 173
  },
  {
   "metadata": {
    "ExecuteTime": {
     "end_time": "2025-10-09T09:53:39.192061Z",
     "start_time": "2025-10-09T09:53:39.175589Z"
    }
   },
   "cell_type": "code",
   "source": "atr",
   "id": "764f0b3100cc03e7",
   "outputs": [
    {
     "data": {
      "text/plain": [
       "array([[17, 11, 15, 19, 13, 12],\n",
       "       [14, 99, 12, 19, 18, 15],\n",
       "       [17, 14, 15, 13, 10, 14],\n",
       "       [13, 15, 15, 15, 11, 17],\n",
       "       [14, 11, 19, 15, 14, 12],\n",
       "       [17, 11, 15, 19, 13, 12]])"
      ]
     },
     "execution_count": 174,
     "metadata": {},
     "output_type": "execute_result"
    }
   ],
   "execution_count": 174
  },
  {
   "metadata": {
    "ExecuteTime": {
     "end_time": "2025-10-09T09:56:38.139265Z",
     "start_time": "2025-10-09T09:56:38.068166Z"
    }
   },
   "cell_type": "code",
   "source": [
    "# Broadcasting\n",
    "\"\"\"\n",
    "broadcasting is case of matrix opetation, to strech the shorter matrix to match the size of longer matrix\n",
    " to perform the operation we need to make sure that the dimensions of two matrix are same\n",
    " or one of the dimension can be 1   \"\"\"\n"
   ],
   "id": "eeca155d341526ab",
   "outputs": [],
   "execution_count": 175
  },
  {
   "metadata": {
    "ExecuteTime": {
     "end_time": "2025-10-09T10:06:40.813960Z",
     "start_time": "2025-10-09T10:06:40.793232Z"
    }
   },
   "cell_type": "code",
   "source": [
    "a=np.random.randint(10,20,[3,1])\n",
    "b=np.random.randint(10,20,[1,3])\n",
    "\n",
    "print(f\"a;{a} \\nb;{b} \\n a+b;{a+b}\")"
   ],
   "id": "d06b9324a8f004aa",
   "outputs": [
    {
     "name": "stdout",
     "output_type": "stream",
     "text": [
      "a;[[12]\n",
      " [18]\n",
      " [11]] \n",
      "b;[[15 19 19]] \n",
      " a+b;[[27 31 31]\n",
      " [33 37 37]\n",
      " [26 30 30]]\n"
     ]
    }
   ],
   "execution_count": 181
  },
  {
   "metadata": {
    "ExecuteTime": {
     "end_time": "2025-10-09T10:13:28.790842Z",
     "start_time": "2025-10-09T10:13:28.717587Z"
    }
   },
   "cell_type": "code",
   "source": [
    "# Vectorization\n",
    "\"\"\"\n",
    "vectorization is the process of converting a function into a vectorized function\n",
    "\"\"\"\n",
    "\"\"\"\n",
    "to implement the function over a matrix we need to use vectorize\n",
    "\n",
    "\"\"\"\n",
    "def square(x):\n",
    "    return x**2\n",
    "\n",
    "# to vectorize\n",
    "v_square=np.vectorize(square)\n",
    "\n",
    "# to check its effect\n",
    "\n",
    "print(f\"atr= {atr} \\n v_atr= {v_square(atr)}\")\n"
   ],
   "id": "7bbace8eb3781a3",
   "outputs": [
    {
     "name": "stdout",
     "output_type": "stream",
     "text": [
      "atr= [[17 11 15 19 13 12]\n",
      " [14 99 12 19 18 15]\n",
      " [17 14 15 13 10 14]\n",
      " [13 15 15 15 11 17]\n",
      " [14 11 19 15 14 12]\n",
      " [17 11 15 19 13 12]] \n",
      " v_atr= [[ 289  121  225  361  169  144]\n",
      " [ 196 9801  144  361  324  225]\n",
      " [ 289  196  225  169  100  196]\n",
      " [ 169  225  225  225  121  289]\n",
      " [ 196  121  361  225  196  144]\n",
      " [ 289  121  225  361  169  144]]\n"
     ]
    }
   ],
   "execution_count": 182
  },
  {
   "metadata": {},
   "cell_type": "code",
   "outputs": [],
   "execution_count": null,
   "source": "",
   "id": "a25f7d584a61bf1e"
  }
 ],
 "metadata": {
  "kernelspec": {
   "name": "python3",
   "language": "python",
   "display_name": "Python 3 (ipykernel)"
  }
 },
 "nbformat": 4,
 "nbformat_minor": 5
}
