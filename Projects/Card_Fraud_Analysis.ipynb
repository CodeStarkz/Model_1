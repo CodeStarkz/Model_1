{
 "cells": [
  {
   "cell_type": "code",
   "execution_count": 1,
   "id": "5cd1f653-11a0-4898-b2a4-f07191c5758a",
   "metadata": {},
   "outputs": [],
   "source": [
    "## importing required librabry\n",
    "\n",
    "import numpy as np \n",
    "import pandas as pd\n",
    "import matplotlib.pyplot as plt\n",
    "import seaborn as sns"
   ]
  },
  {
   "cell_type": "code",
   "execution_count": 2,
   "id": "00ad2932-24c7-4e6d-8fa9-26d8d3297dc7",
   "metadata": {
    "scrolled": true
   },
   "outputs": [
    {
     "data": {
      "text/html": [
       "<div>\n",
       "<style scoped>\n",
       "    .dataframe tbody tr th:only-of-type {\n",
       "        vertical-align: middle;\n",
       "    }\n",
       "\n",
       "    .dataframe tbody tr th {\n",
       "        vertical-align: top;\n",
       "    }\n",
       "\n",
       "    .dataframe thead th {\n",
       "        text-align: right;\n",
       "    }\n",
       "</style>\n",
       "<table border=\"1\" class=\"dataframe\">\n",
       "  <thead>\n",
       "    <tr style=\"text-align: right;\">\n",
       "      <th></th>\n",
       "      <th>trans_date_trans_time</th>\n",
       "      <th>merchant</th>\n",
       "      <th>category</th>\n",
       "      <th>amt</th>\n",
       "      <th>city</th>\n",
       "      <th>state</th>\n",
       "      <th>lat</th>\n",
       "      <th>long</th>\n",
       "      <th>city_pop</th>\n",
       "      <th>job</th>\n",
       "      <th>dob</th>\n",
       "      <th>trans_num</th>\n",
       "      <th>merch_lat</th>\n",
       "      <th>merch_long</th>\n",
       "      <th>is_fraud</th>\n",
       "    </tr>\n",
       "  </thead>\n",
       "  <tbody>\n",
       "    <tr>\n",
       "      <th>0</th>\n",
       "      <td>04-01-2019 00:58</td>\n",
       "      <td>\"Stokes, Christiansen and Sipes\"</td>\n",
       "      <td>grocery_net</td>\n",
       "      <td>14.37</td>\n",
       "      <td>Wales</td>\n",
       "      <td>AK</td>\n",
       "      <td>64.7556</td>\n",
       "      <td>-165.6723</td>\n",
       "      <td>145</td>\n",
       "      <td>\"Administrator, education\"</td>\n",
       "      <td>09-11-1939</td>\n",
       "      <td>a3806e984cec6ac0096d8184c64ad3a1</td>\n",
       "      <td>65.654142</td>\n",
       "      <td>-164.722603</td>\n",
       "      <td>1</td>\n",
       "    </tr>\n",
       "    <tr>\n",
       "      <th>1</th>\n",
       "      <td>04-01-2019 15:06</td>\n",
       "      <td>Predovic Inc</td>\n",
       "      <td>shopping_net</td>\n",
       "      <td>966.11</td>\n",
       "      <td>Wales</td>\n",
       "      <td>AK</td>\n",
       "      <td>64.7556</td>\n",
       "      <td>-165.6723</td>\n",
       "      <td>145</td>\n",
       "      <td>\"Administrator, education\"</td>\n",
       "      <td>09-11-1939</td>\n",
       "      <td>a59185fe1b9ccf21323f581d7477573f</td>\n",
       "      <td>65.468863</td>\n",
       "      <td>-165.473127</td>\n",
       "      <td>1</td>\n",
       "    </tr>\n",
       "    <tr>\n",
       "      <th>2</th>\n",
       "      <td>04-01-2019 22:37</td>\n",
       "      <td>Wisozk and Sons</td>\n",
       "      <td>misc_pos</td>\n",
       "      <td>49.61</td>\n",
       "      <td>Wales</td>\n",
       "      <td>AK</td>\n",
       "      <td>64.7556</td>\n",
       "      <td>-165.6723</td>\n",
       "      <td>145</td>\n",
       "      <td>\"Administrator, education\"</td>\n",
       "      <td>09-11-1939</td>\n",
       "      <td>86ba3a888b42cd3925881fa34177b4e0</td>\n",
       "      <td>65.347667</td>\n",
       "      <td>-165.914542</td>\n",
       "      <td>1</td>\n",
       "    </tr>\n",
       "    <tr>\n",
       "      <th>3</th>\n",
       "      <td>04-01-2019 23:06</td>\n",
       "      <td>Murray-Smitham</td>\n",
       "      <td>grocery_pos</td>\n",
       "      <td>295.26</td>\n",
       "      <td>Wales</td>\n",
       "      <td>AK</td>\n",
       "      <td>64.7556</td>\n",
       "      <td>-165.6723</td>\n",
       "      <td>145</td>\n",
       "      <td>\"Administrator, education\"</td>\n",
       "      <td>09-11-1939</td>\n",
       "      <td>3a068fe1d856f0ecedbed33e4b5f4496</td>\n",
       "      <td>64.445035</td>\n",
       "      <td>-166.080207</td>\n",
       "      <td>1</td>\n",
       "    </tr>\n",
       "    <tr>\n",
       "      <th>4</th>\n",
       "      <td>04-01-2019 23:59</td>\n",
       "      <td>Friesen Lt</td>\n",
       "      <td>health_fitness</td>\n",
       "      <td>18.17</td>\n",
       "      <td>Wales</td>\n",
       "      <td>AK</td>\n",
       "      <td>64.7556</td>\n",
       "      <td>-165.6723</td>\n",
       "      <td>145</td>\n",
       "      <td>\"Administrator, education\"</td>\n",
       "      <td>09-11-1939</td>\n",
       "      <td>891cdd1191028759dc20dc224347a0ff</td>\n",
       "      <td>65.447094</td>\n",
       "      <td>-165.446843</td>\n",
       "      <td>1</td>\n",
       "    </tr>\n",
       "  </tbody>\n",
       "</table>\n",
       "</div>"
      ],
      "text/plain": [
       "  trans_date_trans_time                          merchant        category  \\\n",
       "0      04-01-2019 00:58  \"Stokes, Christiansen and Sipes\"     grocery_net   \n",
       "1      04-01-2019 15:06                      Predovic Inc    shopping_net   \n",
       "2      04-01-2019 22:37                   Wisozk and Sons        misc_pos   \n",
       "3      04-01-2019 23:06                    Murray-Smitham     grocery_pos   \n",
       "4      04-01-2019 23:59                        Friesen Lt  health_fitness   \n",
       "\n",
       "      amt   city state      lat      long  city_pop  \\\n",
       "0   14.37  Wales    AK  64.7556 -165.6723       145   \n",
       "1  966.11  Wales    AK  64.7556 -165.6723       145   \n",
       "2   49.61  Wales    AK  64.7556 -165.6723       145   \n",
       "3  295.26  Wales    AK  64.7556 -165.6723       145   \n",
       "4   18.17  Wales    AK  64.7556 -165.6723       145   \n",
       "\n",
       "                          job         dob                         trans_num  \\\n",
       "0  \"Administrator, education\"  09-11-1939  a3806e984cec6ac0096d8184c64ad3a1   \n",
       "1  \"Administrator, education\"  09-11-1939  a59185fe1b9ccf21323f581d7477573f   \n",
       "2  \"Administrator, education\"  09-11-1939  86ba3a888b42cd3925881fa34177b4e0   \n",
       "3  \"Administrator, education\"  09-11-1939  3a068fe1d856f0ecedbed33e4b5f4496   \n",
       "4  \"Administrator, education\"  09-11-1939  891cdd1191028759dc20dc224347a0ff   \n",
       "\n",
       "   merch_lat  merch_long is_fraud  \n",
       "0  65.654142 -164.722603        1  \n",
       "1  65.468863 -165.473127        1  \n",
       "2  65.347667 -165.914542        1  \n",
       "3  64.445035 -166.080207        1  \n",
       "4  65.447094 -165.446843        1  "
      ]
     },
     "execution_count": 2,
     "metadata": {},
     "output_type": "execute_result"
    }
   ],
   "source": [
    "## loading data set \n",
    "df=pd.read_csv(\"../data/fraud_data.csv\")\n",
    "df.head()"
   ]
  },
  {
   "cell_type": "markdown",
   "id": "c18b5a37-a1f5-4da0-ae3f-8b046e03747b",
   "metadata": {},
   "source": [
    "## Inspecting Data "
   ]
  },
  {
   "cell_type": "code",
   "execution_count": 3,
   "id": "7d65d75d-e305-43bd-9026-01a31d931093",
   "metadata": {},
   "outputs": [
    {
     "data": {
      "text/plain": [
       "(14446, 15)"
      ]
     },
     "execution_count": 3,
     "metadata": {},
     "output_type": "execute_result"
    }
   ],
   "source": [
    "df.shape"
   ]
  },
  {
   "cell_type": "code",
   "execution_count": 4,
   "id": "d6c932a9-a289-4ff6-bf91-fa8e7524b5d5",
   "metadata": {
    "scrolled": true
   },
   "outputs": [
    {
     "name": "stdout",
     "output_type": "stream",
     "text": [
      "<class 'pandas.core.frame.DataFrame'>\n",
      "RangeIndex: 14446 entries, 0 to 14445\n",
      "Data columns (total 15 columns):\n",
      " #   Column                 Non-Null Count  Dtype  \n",
      "---  ------                 --------------  -----  \n",
      " 0   trans_date_trans_time  14446 non-null  object \n",
      " 1   merchant               14446 non-null  object \n",
      " 2   category               14446 non-null  object \n",
      " 3   amt                    14446 non-null  float64\n",
      " 4   city                   14446 non-null  object \n",
      " 5   state                  14446 non-null  object \n",
      " 6   lat                    14446 non-null  float64\n",
      " 7   long                   14446 non-null  float64\n",
      " 8   city_pop               14446 non-null  int64  \n",
      " 9   job                    14446 non-null  object \n",
      " 10  dob                    14446 non-null  object \n",
      " 11  trans_num              14446 non-null  object \n",
      " 12  merch_lat              14446 non-null  float64\n",
      " 13  merch_long             14446 non-null  float64\n",
      " 14  is_fraud               14446 non-null  object \n",
      "dtypes: float64(5), int64(1), object(9)\n",
      "memory usage: 1.7+ MB\n"
     ]
    }
   ],
   "source": [
    "df.info() # no of rows of every column "
   ]
  },
  {
   "cell_type": "code",
   "execution_count": 5,
   "id": "560522ec-163a-47ab-ad5f-16a70d2721e4",
   "metadata": {},
   "outputs": [
    {
     "data": {
      "text/plain": [
       "trans_date_trans_time    0\n",
       "merchant                 0\n",
       "category                 0\n",
       "amt                      0\n",
       "city                     0\n",
       "state                    0\n",
       "lat                      0\n",
       "long                     0\n",
       "city_pop                 0\n",
       "job                      0\n",
       "dob                      0\n",
       "trans_num                0\n",
       "merch_lat                0\n",
       "merch_long               0\n",
       "is_fraud                 0\n",
       "dtype: int64"
      ]
     },
     "execution_count": 5,
     "metadata": {},
     "output_type": "execute_result"
    }
   ],
   "source": [
    "df.isna().sum() # check for null values in each column "
   ]
  },
  {
   "cell_type": "code",
   "execution_count": 6,
   "id": "804bb726-e18d-45e6-91f4-9220f530dac1",
   "metadata": {},
   "outputs": [
    {
     "data": {
      "text/plain": [
       "Index(['trans_date_trans_time', 'merchant', 'category', 'amt', 'city', 'state',\n",
       "       'lat', 'long', 'city_pop', 'job', 'dob', 'trans_num', 'merch_lat',\n",
       "       'merch_long', 'is_fraud'],\n",
       "      dtype='object')"
      ]
     },
     "execution_count": 6,
     "metadata": {},
     "output_type": "execute_result"
    }
   ],
   "source": [
    "df.columns"
   ]
  },
  {
   "cell_type": "code",
   "execution_count": 7,
   "id": "0ca9f944-7566-4cc3-b354-525ad7260a59",
   "metadata": {},
   "outputs": [
    {
     "data": {
      "text/plain": [
       "\"\\ntrans_date_trans_time - should be datime series\\ncity_pop' - should be int \\nis_fraud - should be bool \\n\""
      ]
     },
     "execution_count": 7,
     "metadata": {},
     "output_type": "execute_result"
    }
   ],
   "source": [
    "\"\"\"\n",
    "trans_date_trans_time - should be datime series\n",
    "city_pop' - should be int \n",
    "is_fraud - should be bool \n",
    "\"\"\""
   ]
  },
  {
   "cell_type": "code",
   "execution_count": 8,
   "id": "725fb16c-3b20-4fa0-8636-8a7beb90a01b",
   "metadata": {},
   "outputs": [],
   "source": [
    "df[\"trans_date_trans_time\"]=pd.to_datetime(df[\"trans_date_trans_time\"],format=\"%d-%m-%Y %H:%M\")\n",
    "# "
   ]
  },
  {
   "cell_type": "code",
   "execution_count": 9,
   "id": "73f6c5c9-e7ba-4ae6-bce6-91a2cc478dc1",
   "metadata": {},
   "outputs": [
    {
     "data": {
      "text/plain": [
       "np.int64(0)"
      ]
     },
     "execution_count": 9,
     "metadata": {},
     "output_type": "execute_result"
    }
   ],
   "source": [
    "df[\"trans_date_trans_time\"].isna().sum()"
   ]
  },
  {
   "cell_type": "code",
   "execution_count": 10,
   "id": "2f381d90-407b-4e47-866e-6b31b93ae113",
   "metadata": {},
   "outputs": [
    {
     "data": {
      "text/plain": [
       "count                            14446\n",
       "mean     2019-12-16 02:14:56.664820480\n",
       "min                2019-01-01 00:00:00\n",
       "25%                2019-01-12 16:32:15\n",
       "50%                2019-08-05 00:47:30\n",
       "75%                2020-12-27 20:52:45\n",
       "max                2020-12-31 23:59:00\n",
       "Name: trans_date_trans_time, dtype: object"
      ]
     },
     "execution_count": 10,
     "metadata": {},
     "output_type": "execute_result"
    }
   ],
   "source": [
    "df[\"trans_date_trans_time\"].describe()"
   ]
  },
  {
   "cell_type": "code",
   "execution_count": 11,
   "id": "ea45e6bc-aceb-44bb-b9dc-d93d361fbaf3",
   "metadata": {},
   "outputs": [
    {
     "data": {
      "text/plain": [
       "trans_date_trans_time\n",
       "2020-12-26 23:29:00    5\n",
       "2019-01-21 23:09:00    5\n",
       "2020-12-27 12:46:00    5\n",
       "2020-12-29 08:37:00    5\n",
       "2020-12-29 16:57:00    5\n",
       "                      ..\n",
       "2019-01-22 00:19:00    1\n",
       "2019-01-22 00:18:00    1\n",
       "2019-01-22 00:07:00    1\n",
       "2019-01-22 00:01:00    1\n",
       "2019-01-21 23:59:00    1\n",
       "Name: count, Length: 12126, dtype: int64"
      ]
     },
     "execution_count": 11,
     "metadata": {},
     "output_type": "execute_result"
    }
   ],
   "source": [
    "df[\"trans_date_trans_time\"].value_counts()"
   ]
  },
  {
   "cell_type": "code",
   "execution_count": 12,
   "id": "d799e4f7-7200-494d-b492-f3c2ed8dd027",
   "metadata": {},
   "outputs": [],
   "source": [
    "#df[\"city_pop\"]=df[\"city_pop\"].astype(\"int\")"
   ]
  },
  {
   "cell_type": "code",
   "execution_count": 13,
   "id": "293e07c9-a3b2-4e42-a6f7-6934c3f5b14a",
   "metadata": {
    "scrolled": true
   },
   "outputs": [
    {
     "name": "stdout",
     "output_type": "stream",
     "text": [
      "<class 'pandas.core.frame.DataFrame'>\n",
      "RangeIndex: 14446 entries, 0 to 14445\n",
      "Data columns (total 15 columns):\n",
      " #   Column                 Non-Null Count  Dtype         \n",
      "---  ------                 --------------  -----         \n",
      " 0   trans_date_trans_time  14446 non-null  datetime64[ns]\n",
      " 1   merchant               14446 non-null  object        \n",
      " 2   category               14446 non-null  object        \n",
      " 3   amt                    14446 non-null  float64       \n",
      " 4   city                   14446 non-null  object        \n",
      " 5   state                  14446 non-null  object        \n",
      " 6   lat                    14446 non-null  float64       \n",
      " 7   long                   14446 non-null  float64       \n",
      " 8   city_pop               14446 non-null  int64         \n",
      " 9   job                    14446 non-null  object        \n",
      " 10  dob                    14446 non-null  object        \n",
      " 11  trans_num              14446 non-null  object        \n",
      " 12  merch_lat              14446 non-null  float64       \n",
      " 13  merch_long             14446 non-null  float64       \n",
      " 14  is_fraud               14446 non-null  object        \n",
      "dtypes: datetime64[ns](1), float64(5), int64(1), object(8)\n",
      "memory usage: 1.7+ MB\n"
     ]
    }
   ],
   "source": [
    "df.info()\n"
   ]
  },
  {
   "cell_type": "code",
   "execution_count": 14,
   "id": "d3d2a071-c4c8-400f-a7d8-2ee13582ba82",
   "metadata": {},
   "outputs": [
    {
     "data": {
      "text/plain": [
       "is_fraud\n",
       "0                         12600\n",
       "1                          1844\n",
       "1\"2020-12-24 16:56:24\"        1\n",
       "0\"2019-01-01 00:00:44\"        1\n",
       "Name: count, dtype: int64"
      ]
     },
     "execution_count": 14,
     "metadata": {},
     "output_type": "execute_result"
    }
   ],
   "source": [
    "df[\"is_fraud\"].value_counts()"
   ]
  },
  {
   "cell_type": "code",
   "execution_count": 15,
   "id": "0711b68a-563b-4924-9c63-8cff30265451",
   "metadata": {},
   "outputs": [],
   "source": [
    "df[\"is_fraud\"]=pd.to_numeric(df[\"is_fraud\"],errors=\"coerce\")"
   ]
  },
  {
   "cell_type": "code",
   "execution_count": 16,
   "id": "7e018bd3-7f3e-466a-bda6-00467d73686c",
   "metadata": {},
   "outputs": [
    {
     "data": {
      "text/plain": [
       "is_fraud\n",
       "0.0    12600\n",
       "1.0     1844\n",
       "Name: count, dtype: int64"
      ]
     },
     "execution_count": 16,
     "metadata": {},
     "output_type": "execute_result"
    }
   ],
   "source": [
    "df[\"is_fraud\"].value_counts()"
   ]
  },
  {
   "cell_type": "code",
   "execution_count": 17,
   "id": "2768352b-e4bb-452e-ab47-11d2dec64202",
   "metadata": {},
   "outputs": [
    {
     "data": {
      "text/plain": [
       "np.int64(2)"
      ]
     },
     "execution_count": 17,
     "metadata": {},
     "output_type": "execute_result"
    }
   ],
   "source": [
    "df[\"is_fraud\"].isna().sum()"
   ]
  },
  {
   "cell_type": "code",
   "execution_count": 18,
   "id": "99a16dd3-38b4-4c65-934a-3e911be23d81",
   "metadata": {},
   "outputs": [],
   "source": [
    "df[\"is_fraud\"]=df[\"is_fraud\"].astype(\"bool\")"
   ]
  },
  {
   "cell_type": "code",
   "execution_count": 19,
   "id": "4f20a9f1-d7a2-4f48-8467-2235bd1de686",
   "metadata": {},
   "outputs": [
    {
     "data": {
      "text/plain": [
       "is_fraud\n",
       "False    12600\n",
       "True      1846\n",
       "Name: count, dtype: int64"
      ]
     },
     "execution_count": 19,
     "metadata": {},
     "output_type": "execute_result"
    }
   ],
   "source": [
    "df[\"is_fraud\"].value_counts()"
   ]
  },
  {
   "cell_type": "markdown",
   "id": "2d8c5fc7-dd0a-4fb8-a9ca-1b97203c580d",
   "metadata": {},
   "source": [
    "## Filtering out and Preperation for analysis"
   ]
  },
  {
   "cell_type": "code",
   "execution_count": 20,
   "id": "0fc1bc6e-c812-4848-adc3-755e27533111",
   "metadata": {},
   "outputs": [
    {
     "data": {
      "text/plain": [
       "Index(['trans_date_trans_time', 'merchant', 'category', 'amt', 'city', 'state',\n",
       "       'lat', 'long', 'city_pop', 'job', 'dob', 'trans_num', 'merch_lat',\n",
       "       'merch_long', 'is_fraud'],\n",
       "      dtype='object')"
      ]
     },
     "execution_count": 20,
     "metadata": {},
     "output_type": "execute_result"
    }
   ],
   "source": [
    "df.columns"
   ]
  },
  {
   "cell_type": "code",
   "execution_count": 21,
   "id": "d8140ab6-57e2-42a3-a644-7554c8807d08",
   "metadata": {},
   "outputs": [],
   "source": [
    "# creating new dataframe with only necessary column \n",
    "card_fraud=df[['trans_date_trans_time','category','city','state','amt','is_fraud']]"
   ]
  },
  {
   "cell_type": "code",
   "execution_count": 22,
   "id": "c2a0c4eb-d46e-4eae-bc45-a055e9edb5c3",
   "metadata": {},
   "outputs": [
    {
     "data": {
      "text/html": [
       "<div>\n",
       "<style scoped>\n",
       "    .dataframe tbody tr th:only-of-type {\n",
       "        vertical-align: middle;\n",
       "    }\n",
       "\n",
       "    .dataframe tbody tr th {\n",
       "        vertical-align: top;\n",
       "    }\n",
       "\n",
       "    .dataframe thead th {\n",
       "        text-align: right;\n",
       "    }\n",
       "</style>\n",
       "<table border=\"1\" class=\"dataframe\">\n",
       "  <thead>\n",
       "    <tr style=\"text-align: right;\">\n",
       "      <th></th>\n",
       "      <th>trans_date_trans_time</th>\n",
       "      <th>category</th>\n",
       "      <th>city</th>\n",
       "      <th>state</th>\n",
       "      <th>amt</th>\n",
       "      <th>is_fraud</th>\n",
       "    </tr>\n",
       "  </thead>\n",
       "  <tbody>\n",
       "    <tr>\n",
       "      <th>0</th>\n",
       "      <td>2019-01-04 00:58:00</td>\n",
       "      <td>grocery_net</td>\n",
       "      <td>Wales</td>\n",
       "      <td>AK</td>\n",
       "      <td>14.37</td>\n",
       "      <td>True</td>\n",
       "    </tr>\n",
       "    <tr>\n",
       "      <th>1</th>\n",
       "      <td>2019-01-04 15:06:00</td>\n",
       "      <td>shopping_net</td>\n",
       "      <td>Wales</td>\n",
       "      <td>AK</td>\n",
       "      <td>966.11</td>\n",
       "      <td>True</td>\n",
       "    </tr>\n",
       "    <tr>\n",
       "      <th>2</th>\n",
       "      <td>2019-01-04 22:37:00</td>\n",
       "      <td>misc_pos</td>\n",
       "      <td>Wales</td>\n",
       "      <td>AK</td>\n",
       "      <td>49.61</td>\n",
       "      <td>True</td>\n",
       "    </tr>\n",
       "    <tr>\n",
       "      <th>3</th>\n",
       "      <td>2019-01-04 23:06:00</td>\n",
       "      <td>grocery_pos</td>\n",
       "      <td>Wales</td>\n",
       "      <td>AK</td>\n",
       "      <td>295.26</td>\n",
       "      <td>True</td>\n",
       "    </tr>\n",
       "    <tr>\n",
       "      <th>4</th>\n",
       "      <td>2019-01-04 23:59:00</td>\n",
       "      <td>health_fitness</td>\n",
       "      <td>Wales</td>\n",
       "      <td>AK</td>\n",
       "      <td>18.17</td>\n",
       "      <td>True</td>\n",
       "    </tr>\n",
       "  </tbody>\n",
       "</table>\n",
       "</div>"
      ],
      "text/plain": [
       "  trans_date_trans_time        category   city state     amt  is_fraud\n",
       "0   2019-01-04 00:58:00     grocery_net  Wales    AK   14.37      True\n",
       "1   2019-01-04 15:06:00    shopping_net  Wales    AK  966.11      True\n",
       "2   2019-01-04 22:37:00        misc_pos  Wales    AK   49.61      True\n",
       "3   2019-01-04 23:06:00     grocery_pos  Wales    AK  295.26      True\n",
       "4   2019-01-04 23:59:00  health_fitness  Wales    AK   18.17      True"
      ]
     },
     "execution_count": 22,
     "metadata": {},
     "output_type": "execute_result"
    }
   ],
   "source": [
    "card_fraud.head()"
   ]
  },
  {
   "cell_type": "code",
   "execution_count": 23,
   "id": "f6fdad49-6910-4450-aa45-7aa79d3413fb",
   "metadata": {},
   "outputs": [],
   "source": [
    "card_fraud_t=card_fraud[card_fraud[\"is_fraud\"]==True]"
   ]
  },
  {
   "cell_type": "code",
   "execution_count": 24,
   "id": "a981b7de-2287-4404-aec3-547fca842d5d",
   "metadata": {},
   "outputs": [
    {
     "data": {
      "text/html": [
       "<div>\n",
       "<style scoped>\n",
       "    .dataframe tbody tr th:only-of-type {\n",
       "        vertical-align: middle;\n",
       "    }\n",
       "\n",
       "    .dataframe tbody tr th {\n",
       "        vertical-align: top;\n",
       "    }\n",
       "\n",
       "    .dataframe thead th {\n",
       "        text-align: right;\n",
       "    }\n",
       "</style>\n",
       "<table border=\"1\" class=\"dataframe\">\n",
       "  <thead>\n",
       "    <tr style=\"text-align: right;\">\n",
       "      <th></th>\n",
       "      <th>trans_date_trans_time</th>\n",
       "      <th>category</th>\n",
       "      <th>city</th>\n",
       "      <th>state</th>\n",
       "      <th>amt</th>\n",
       "      <th>is_fraud</th>\n",
       "    </tr>\n",
       "  </thead>\n",
       "  <tbody>\n",
       "    <tr>\n",
       "      <th>0</th>\n",
       "      <td>2019-01-04 00:58:00</td>\n",
       "      <td>grocery_net</td>\n",
       "      <td>Wales</td>\n",
       "      <td>AK</td>\n",
       "      <td>14.37</td>\n",
       "      <td>True</td>\n",
       "    </tr>\n",
       "    <tr>\n",
       "      <th>1</th>\n",
       "      <td>2019-01-04 15:06:00</td>\n",
       "      <td>shopping_net</td>\n",
       "      <td>Wales</td>\n",
       "      <td>AK</td>\n",
       "      <td>966.11</td>\n",
       "      <td>True</td>\n",
       "    </tr>\n",
       "    <tr>\n",
       "      <th>2</th>\n",
       "      <td>2019-01-04 22:37:00</td>\n",
       "      <td>misc_pos</td>\n",
       "      <td>Wales</td>\n",
       "      <td>AK</td>\n",
       "      <td>49.61</td>\n",
       "      <td>True</td>\n",
       "    </tr>\n",
       "    <tr>\n",
       "      <th>3</th>\n",
       "      <td>2019-01-04 23:06:00</td>\n",
       "      <td>grocery_pos</td>\n",
       "      <td>Wales</td>\n",
       "      <td>AK</td>\n",
       "      <td>295.26</td>\n",
       "      <td>True</td>\n",
       "    </tr>\n",
       "    <tr>\n",
       "      <th>4</th>\n",
       "      <td>2019-01-04 23:59:00</td>\n",
       "      <td>health_fitness</td>\n",
       "      <td>Wales</td>\n",
       "      <td>AK</td>\n",
       "      <td>18.17</td>\n",
       "      <td>True</td>\n",
       "    </tr>\n",
       "  </tbody>\n",
       "</table>\n",
       "</div>"
      ],
      "text/plain": [
       "  trans_date_trans_time        category   city state     amt  is_fraud\n",
       "0   2019-01-04 00:58:00     grocery_net  Wales    AK   14.37      True\n",
       "1   2019-01-04 15:06:00    shopping_net  Wales    AK  966.11      True\n",
       "2   2019-01-04 22:37:00        misc_pos  Wales    AK   49.61      True\n",
       "3   2019-01-04 23:06:00     grocery_pos  Wales    AK  295.26      True\n",
       "4   2019-01-04 23:59:00  health_fitness  Wales    AK   18.17      True"
      ]
     },
     "execution_count": 24,
     "metadata": {},
     "output_type": "execute_result"
    }
   ],
   "source": [
    "card_fraud_t.head()"
   ]
  },
  {
   "cell_type": "code",
   "execution_count": 25,
   "id": "f0984bc3-6994-41ce-9521-53bd5fcd9ef8",
   "metadata": {},
   "outputs": [
    {
     "data": {
      "text/plain": [
       "(1846, 6)"
      ]
     },
     "execution_count": 25,
     "metadata": {},
     "output_type": "execute_result"
    }
   ],
   "source": [
    "card_fraud_t.shape"
   ]
  },
  {
   "cell_type": "code",
   "execution_count": 26,
   "id": "08ed15d4-9e9d-4777-a414-7ce6e7696524",
   "metadata": {
    "scrolled": true
   },
   "outputs": [
    {
     "data": {
      "text/html": [
       "<div>\n",
       "<style scoped>\n",
       "    .dataframe tbody tr th:only-of-type {\n",
       "        vertical-align: middle;\n",
       "    }\n",
       "\n",
       "    .dataframe tbody tr th {\n",
       "        vertical-align: top;\n",
       "    }\n",
       "\n",
       "    .dataframe thead th {\n",
       "        text-align: right;\n",
       "    }\n",
       "</style>\n",
       "<table border=\"1\" class=\"dataframe\">\n",
       "  <thead>\n",
       "    <tr style=\"text-align: right;\">\n",
       "      <th></th>\n",
       "      <th>sum</th>\n",
       "    </tr>\n",
       "    <tr>\n",
       "      <th>city</th>\n",
       "      <th></th>\n",
       "    </tr>\n",
       "  </thead>\n",
       "  <tbody>\n",
       "    <tr>\n",
       "      <th>Wales</th>\n",
       "      <td>30</td>\n",
       "    </tr>\n",
       "    <tr>\n",
       "      <th>San Jose</th>\n",
       "      <td>27</td>\n",
       "    </tr>\n",
       "    <tr>\n",
       "      <th>Albuquerque</th>\n",
       "      <td>24</td>\n",
       "    </tr>\n",
       "    <tr>\n",
       "      <th>Thompson</th>\n",
       "      <td>24</td>\n",
       "    </tr>\n",
       "    <tr>\n",
       "      <th>Aurora</th>\n",
       "      <td>23</td>\n",
       "    </tr>\n",
       "    <tr>\n",
       "      <th>...</th>\n",
       "      <td>...</td>\n",
       "    </tr>\n",
       "    <tr>\n",
       "      <th>Newhall</th>\n",
       "      <td>3</td>\n",
       "    </tr>\n",
       "    <tr>\n",
       "      <th>Odessa</th>\n",
       "      <td>3</td>\n",
       "    </tr>\n",
       "    <tr>\n",
       "      <th>Vancouver</th>\n",
       "      <td>3</td>\n",
       "    </tr>\n",
       "    <tr>\n",
       "      <th>Littleton</th>\n",
       "      <td>2</td>\n",
       "    </tr>\n",
       "    <tr>\n",
       "      <th>Laramie</th>\n",
       "      <td>2</td>\n",
       "    </tr>\n",
       "  </tbody>\n",
       "</table>\n",
       "<p>172 rows × 1 columns</p>\n",
       "</div>"
      ],
      "text/plain": [
       "             sum\n",
       "city            \n",
       "Wales         30\n",
       "San Jose      27\n",
       "Albuquerque   24\n",
       "Thompson      24\n",
       "Aurora        23\n",
       "...          ...\n",
       "Newhall        3\n",
       "Odessa         3\n",
       "Vancouver      3\n",
       "Littleton      2\n",
       "Laramie        2\n",
       "\n",
       "[172 rows x 1 columns]"
      ]
     },
     "execution_count": 26,
     "metadata": {},
     "output_type": "execute_result"
    }
   ],
   "source": [
    "card_fraud_t_citywise=card_fraud_t.groupby(\"city\")[\"is_fraud\"].agg([\"sum\"]).sort_values(by=\"sum\", ascending=False)\n",
    "card_fraud_t_citywise"
   ]
  },
  {
   "cell_type": "code",
   "execution_count": 27,
   "id": "384fa7f6-157b-4428-a0c6-fe92cf2321f5",
   "metadata": {
    "scrolled": true
   },
   "outputs": [
    {
     "data": {
      "text/html": [
       "<div>\n",
       "<style scoped>\n",
       "    .dataframe tbody tr th:only-of-type {\n",
       "        vertical-align: middle;\n",
       "    }\n",
       "\n",
       "    .dataframe tbody tr th {\n",
       "        vertical-align: top;\n",
       "    }\n",
       "\n",
       "    .dataframe thead th {\n",
       "        text-align: right;\n",
       "    }\n",
       "</style>\n",
       "<table border=\"1\" class=\"dataframe\">\n",
       "  <thead>\n",
       "    <tr style=\"text-align: right;\">\n",
       "      <th></th>\n",
       "      <th>sum</th>\n",
       "    </tr>\n",
       "    <tr>\n",
       "      <th>state</th>\n",
       "      <th></th>\n",
       "    </tr>\n",
       "  </thead>\n",
       "  <tbody>\n",
       "    <tr>\n",
       "      <th>CA</th>\n",
       "      <td>411</td>\n",
       "    </tr>\n",
       "    <tr>\n",
       "      <th>MO</th>\n",
       "      <td>267</td>\n",
       "    </tr>\n",
       "    <tr>\n",
       "      <th>NE</th>\n",
       "      <td>238</td>\n",
       "    </tr>\n",
       "    <tr>\n",
       "      <th>OR</th>\n",
       "      <td>197</td>\n",
       "    </tr>\n",
       "    <tr>\n",
       "      <th>WA</th>\n",
       "      <td>126</td>\n",
       "    </tr>\n",
       "    <tr>\n",
       "      <th>NM</th>\n",
       "      <td>121</td>\n",
       "    </tr>\n",
       "    <tr>\n",
       "      <th>WY</th>\n",
       "      <td>119</td>\n",
       "    </tr>\n",
       "    <tr>\n",
       "      <th>CO</th>\n",
       "      <td>115</td>\n",
       "    </tr>\n",
       "    <tr>\n",
       "      <th>UT</th>\n",
       "      <td>73</td>\n",
       "    </tr>\n",
       "    <tr>\n",
       "      <th>AK</th>\n",
       "      <td>65</td>\n",
       "    </tr>\n",
       "    <tr>\n",
       "      <th>AZ</th>\n",
       "      <td>64</td>\n",
       "    </tr>\n",
       "    <tr>\n",
       "      <th>ID</th>\n",
       "      <td>34</td>\n",
       "    </tr>\n",
       "    <tr>\n",
       "      <th>HI</th>\n",
       "      <td>16</td>\n",
       "    </tr>\n",
       "  </tbody>\n",
       "</table>\n",
       "</div>"
      ],
      "text/plain": [
       "       sum\n",
       "state     \n",
       "CA     411\n",
       "MO     267\n",
       "NE     238\n",
       "OR     197\n",
       "WA     126\n",
       "NM     121\n",
       "WY     119\n",
       "CO     115\n",
       "UT      73\n",
       "AK      65\n",
       "AZ      64\n",
       "ID      34\n",
       "HI      16"
      ]
     },
     "execution_count": 27,
     "metadata": {},
     "output_type": "execute_result"
    }
   ],
   "source": [
    "card_fraud_t_state=card_fraud_t.groupby(\"state\")[\"is_fraud\"].agg([\"sum\"]).sort_values(\"sum\",ascending=False)\n",
    "card_fraud_t_state"
   ]
  },
  {
   "cell_type": "code",
   "execution_count": 28,
   "id": "524aad0d-6560-4a86-93e2-ac310069d4d0",
   "metadata": {
    "scrolled": true
   },
   "outputs": [
    {
     "data": {
      "text/html": [
       "<div>\n",
       "<style scoped>\n",
       "    .dataframe tbody tr th:only-of-type {\n",
       "        vertical-align: middle;\n",
       "    }\n",
       "\n",
       "    .dataframe tbody tr th {\n",
       "        vertical-align: top;\n",
       "    }\n",
       "\n",
       "    .dataframe thead th {\n",
       "        text-align: right;\n",
       "    }\n",
       "</style>\n",
       "<table border=\"1\" class=\"dataframe\">\n",
       "  <thead>\n",
       "    <tr style=\"text-align: right;\">\n",
       "      <th></th>\n",
       "      <th>sum</th>\n",
       "    </tr>\n",
       "    <tr>\n",
       "      <th>category</th>\n",
       "      <th></th>\n",
       "    </tr>\n",
       "  </thead>\n",
       "  <tbody>\n",
       "    <tr>\n",
       "      <th>grocery_pos</th>\n",
       "      <td>444</td>\n",
       "    </tr>\n",
       "    <tr>\n",
       "      <th>shopping_net</th>\n",
       "      <td>396</td>\n",
       "    </tr>\n",
       "    <tr>\n",
       "      <th>misc_net</th>\n",
       "      <td>223</td>\n",
       "    </tr>\n",
       "    <tr>\n",
       "      <th>shopping_pos</th>\n",
       "      <td>194</td>\n",
       "    </tr>\n",
       "    <tr>\n",
       "      <th>gas_transport</th>\n",
       "      <td>159</td>\n",
       "    </tr>\n",
       "    <tr>\n",
       "      <th>misc_pos</th>\n",
       "      <td>64</td>\n",
       "    </tr>\n",
       "    <tr>\n",
       "      <th>entertainment</th>\n",
       "      <td>59</td>\n",
       "    </tr>\n",
       "    <tr>\n",
       "      <th>personal_care</th>\n",
       "      <td>57</td>\n",
       "    </tr>\n",
       "    <tr>\n",
       "      <th>kids_pets</th>\n",
       "      <td>56</td>\n",
       "    </tr>\n",
       "    <tr>\n",
       "      <th>home</th>\n",
       "      <td>51</td>\n",
       "    </tr>\n",
       "    <tr>\n",
       "      <th>food_dining</th>\n",
       "      <td>39</td>\n",
       "    </tr>\n",
       "    <tr>\n",
       "      <th>health_fitness</th>\n",
       "      <td>37</td>\n",
       "    </tr>\n",
       "    <tr>\n",
       "      <th>travel</th>\n",
       "      <td>35</td>\n",
       "    </tr>\n",
       "    <tr>\n",
       "      <th>grocery_net</th>\n",
       "      <td>32</td>\n",
       "    </tr>\n",
       "  </tbody>\n",
       "</table>\n",
       "</div>"
      ],
      "text/plain": [
       "                sum\n",
       "category           \n",
       "grocery_pos     444\n",
       "shopping_net    396\n",
       "misc_net        223\n",
       "shopping_pos    194\n",
       "gas_transport   159\n",
       "misc_pos         64\n",
       "entertainment    59\n",
       "personal_care    57\n",
       "kids_pets        56\n",
       "home             51\n",
       "food_dining      39\n",
       "health_fitness   37\n",
       "travel           35\n",
       "grocery_net      32"
      ]
     },
     "execution_count": 28,
     "metadata": {},
     "output_type": "execute_result"
    }
   ],
   "source": [
    "card_fraud_t_cat=card_fraud_t.groupby(\"category\")[\"is_fraud\"].agg([\"sum\"]).sort_values(\"sum\",ascending=False)\n",
    "card_fraud_t_cat"
   ]
  },
  {
   "cell_type": "markdown",
   "id": "d5b70db2-005b-4876-a91d-36a94233c061",
   "metadata": {},
   "source": [
    "## Visualizing the fraud "
   ]
  },
  {
   "cell_type": "code",
   "execution_count": 29,
   "id": "d890ec90-b2ea-4b97-a096-8ad4994e2c37",
   "metadata": {},
   "outputs": [],
   "source": [
    "# "
   ]
  },
  {
   "cell_type": "code",
   "execution_count": 30,
   "id": "5fa2eca8-4d3f-4260-b350-325caaa46d1b",
   "metadata": {
    "scrolled": true
   },
   "outputs": [
    {
     "data": {
      "text/plain": [
       "['Solarize_Light2',\n",
       " '_classic_test_patch',\n",
       " '_mpl-gallery',\n",
       " '_mpl-gallery-nogrid',\n",
       " 'bmh',\n",
       " 'classic',\n",
       " 'dark_background',\n",
       " 'fast',\n",
       " 'fivethirtyeight',\n",
       " 'ggplot',\n",
       " 'grayscale',\n",
       " 'petroff10',\n",
       " 'seaborn-v0_8',\n",
       " 'seaborn-v0_8-bright',\n",
       " 'seaborn-v0_8-colorblind',\n",
       " 'seaborn-v0_8-dark',\n",
       " 'seaborn-v0_8-dark-palette',\n",
       " 'seaborn-v0_8-darkgrid',\n",
       " 'seaborn-v0_8-deep',\n",
       " 'seaborn-v0_8-muted',\n",
       " 'seaborn-v0_8-notebook',\n",
       " 'seaborn-v0_8-paper',\n",
       " 'seaborn-v0_8-pastel',\n",
       " 'seaborn-v0_8-poster',\n",
       " 'seaborn-v0_8-talk',\n",
       " 'seaborn-v0_8-ticks',\n",
       " 'seaborn-v0_8-white',\n",
       " 'seaborn-v0_8-whitegrid',\n",
       " 'tableau-colorblind10']"
      ]
     },
     "execution_count": 30,
     "metadata": {},
     "output_type": "execute_result"
    }
   ],
   "source": [
    "plt.style.available"
   ]
  },
  {
   "cell_type": "code",
   "execution_count": 31,
   "id": "3caf1998-b4de-4594-8023-5dd9cbd5ea39",
   "metadata": {},
   "outputs": [],
   "source": [
    "plt.style.use(\"dark_background\")"
   ]
  },
  {
   "cell_type": "markdown",
   "id": "d1e728f9-c89a-466b-b842-fcc85e213ce0",
   "metadata": {},
   "source": [
    "## Fraud Visualization Citywise "
   ]
  },
  {
   "cell_type": "code",
   "execution_count": 32,
   "id": "9c6b5e2e-1845-40b4-a605-27f7c4443a26",
   "metadata": {
    "scrolled": true
   },
   "outputs": [
    {
     "data": {
      "text/plain": [
       "Text(0.5, 1.0, 'Top 10 States of Fraud Citywise')"
      ]
     },
     "execution_count": 32,
     "metadata": {},
     "output_type": "execute_result"
    },
    {
     "data": {
      "image/png": "[encoded data removed]",
      "text/plain": [
       "<Figure size 1200x600 with 2 Axes>"
      ]
     },
     "metadata": {},
     "output_type": "display_data"
    }
   ],
   "source": [
    "plt.figure(figsize=(12,6))\n",
    "plt.subplot(1,2,1)\n",
    "#card_fraud_t_citywise=card_fraud_t.groupby(\"city\")[\"is_fraud\"].agg([\"sum\"]).sort_values(by=\"sum\", ascending=False)\n",
    "card_fraud_t_citywise=card_fraud_t_citywise.head(10)\n",
    "plt.bar(x=(card_fraud_t_citywise.index),height=(card_fraud_t_citywise[\"sum\"]),color=\"orchid\")\n",
    "plt.xlabel(\"City\")\n",
    "plt.ylabel(\"No of Fraud\")\n",
    "plt.title(\"Top 10 States of Fraud Citywise\")\n",
    "\n",
    "plt.subplot(1,2,2)\n",
    "sns.barplot(data = card_fraud_t_citywise,\n",
    "            x=(card_fraud_t_citywise.index),\n",
    "            y=(card_fraud_t_citywise[\"sum\"]),\n",
    "           hue=card_fraud_t_citywise.index)\n",
    "plt.xlabel(\"City\")\n",
    "plt.ylabel(\"No of fraud\")\n",
    "plt.title(\"Top 10 States of Fraud Citywise\")\n"
   ]
  },
  {
   "cell_type": "markdown",
   "id": "373a5b79-f1f0-457c-aa50-84b66242b140",
   "metadata": {},
   "source": [
    "## Fraud Visualization Statewise "
   ]
  },
  {
   "cell_type": "code",
   "execution_count": 33,
   "id": "ebd2d830-fa5e-45ae-8021-8ecb0b5ce475",
   "metadata": {
    "scrolled": true
   },
   "outputs": [
    {
     "data": {
      "text/plain": [
       "Text(0.5, 1.0, 'No of fraud Statewise')"
      ]
     },
     "execution_count": 33,
     "metadata": {},
     "output_type": "execute_result"
    },
    {
     "data": {
      "image/png": "[encoded data removed]",
      "text/plain": [
       "<Figure size 1000x1000 with 2 Axes>"
      ]
     },
     "metadata": {},
     "output_type": "display_data"
    }
   ],
   "source": [
    "# card_fraud_t_state=card_fraud_t.groupby(\"state\")[\"is_fraud\"].agg([\"sum\"]).sort_values(\"sum\",ascending=False)\n",
    "plt.figure(figsize=(10,10))\n",
    "plt.subplot(1,2,1)\n",
    "plt.bar(x=card_fraud_t_state.index,height=card_fraud_t_state[\"sum\"],color=\"red\")\n",
    "plt.xlabel(\"states\")\n",
    "plt.ylabel(\"No of Fraud\")\n",
    "plt.title(\"No of fraud Statewise\")\n",
    "\n",
    "plt.subplot(1,2,2)\n",
    "sns.barplot(data=card_fraud_t_state,\n",
    "           x=card_fraud_t_state.index,\n",
    "           y=card_fraud_t_state[\"sum\"],hue=card_fraud_t_state.index)\n",
    "plt.xlabel(\"States\")\n",
    "plt.ylabel(\"No of fraud\")\n",
    "plt.title(\"No of fraud Statewise\")\n"
   ]
  },
  {
   "cell_type": "markdown",
   "id": "662a868e-5ae0-49ed-ad2f-1a1e38ac5991",
   "metadata": {},
   "source": [
    "## Fraud Visualization Categorywise "
   ]
  },
  {
   "cell_type": "code",
   "execution_count": 34,
   "id": "8fd4dd8b-46e7-47fa-867a-466608171ef5",
   "metadata": {
    "scrolled": true
   },
   "outputs": [
    {
     "data": {
      "image/png": "[encoded data removed]",
      "text/plain": [
       "<Figure size 1200x600 with 3 Axes>"
      ]
     },
     "metadata": {},
     "output_type": "display_data"
    }
   ],
   "source": [
    "card_fraud_t_cat=card_fraud_t.groupby(\"category\")[\"is_fraud\"].agg([\"sum\"]).sort_values(\"sum\",ascending=False).head(10)\n",
    "plt.figure(figsize=(12,6))\n",
    "plt.subplot(2,2,1)\n",
    "plt.bar(x=card_fraud_t_cat.index,height=card_fraud_t_cat[\"sum\"])\n",
    "plt.title(\"Top 10 Category of Fraud\")\n",
    "\n",
    "plt.subplot(2,2,2)\n",
    "sns.barplot(data=card_fraud_t_cat,\n",
    "            x=card_fraud_t_cat.index, \n",
    "            y=card_fraud_t_cat[\"sum\"],\n",
    "            hue=card_fraud_t_cat.index)\n",
    "plt.title(\"Top 10 Category of Fraud\")\n",
    "\n",
    "\n",
    "plt.subplot(2,2,3)\n",
    "plt.pie(card_fraud_t_cat[\"sum\"],labels=card_fraud_t_cat.index,autopct=\"%1.1f%%\")\n",
    "plt.title(\"Fraud Percentage Categorywise\")\n",
    "plt.show()"
   ]
  },
  {
   "cell_type": "code",
   "execution_count": null,
   "id": "acd1a661-b401-4d5c-a402-772051a51f80",
   "metadata": {},
   "outputs": [],
   "source": []
  },
  {
   "cell_type": "code",
   "execution_count": null,
   "id": "da88d913-faab-4049-aef3-36a7193655c4",
   "metadata": {},
   "outputs": [],
   "source": []
  }
 ],
 "metadata": {
  "kernelspec": {
   "display_name": "Python 3 (ipykernel)",
   "language": "python",
   "name": "python3"
  },
  "language_info": {
   "codemirror_mode": {
    "name": "ipython",
    "version": 3
   },
   "file_extension": ".py",
   "mimetype": "text/x-python",
   "name": "python",
   "nbconvert_exporter": "python",
   "pygments_lexer": "ipython3",
   "version": "3.13.5"
  }
 },
 "nbformat": 4,
 "nbformat_minor": 5
}
